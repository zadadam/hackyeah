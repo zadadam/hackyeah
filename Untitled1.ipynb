{
 "cells": [
  {
   "cell_type": "code",
   "execution_count": 1,
   "metadata": {},
   "outputs": [],
   "source": [
    "import pymongo"
   ]
  },
  {
   "cell_type": "code",
   "execution_count": 2,
   "metadata": {},
   "outputs": [],
   "source": [
    "client = pymongo.MongoClient(port=27017)\n",
    "db=client.exatel"
   ]
  },
  {
   "cell_type": "code",
   "execution_count": 3,
   "metadata": {},
   "outputs": [],
   "source": [
    "import glob\n",
    "import time\n",
    "import pprint\n",
    "import numpy as np\n",
    "import sklearn"
   ]
  },
  {
   "cell_type": "code",
   "execution_count": 4,
   "metadata": {},
   "outputs": [],
   "source": [
    "catalog= \"EXATEL\""
   ]
  },
  {
   "cell_type": "code",
   "execution_count": 5,
   "metadata": {},
   "outputs": [],
   "source": [
    "cats = glob.glob(catalog + '/' + '???')"
   ]
  },
  {
   "cell_type": "code",
   "execution_count": 6,
   "metadata": {},
   "outputs": [
    {
     "name": "stderr",
     "output_type": "stream",
     "text": [
      "\n"
     ]
    }
   ],
   "source": [
    "import fasttext\n",
    "model = fasttext.load_model('lid.176.ftz')"
   ]
  },
  {
   "cell_type": "code",
   "execution_count": 33,
   "metadata": {},
   "outputs": [],
   "source": [
    "def langCodes2(text):\n",
    "    out = model.predict(text, k=2)\n",
    "    out2 = list(filter(lambda x: x > 0.70, list(out[1])))\n",
    "    if len(out2):\n",
    "        return '__label__not_a_language'\n",
    "    else:\n",
    "        return out[0][0]"
   ]
  },
  {
   "cell_type": "code",
   "execution_count": 8,
   "metadata": {},
   "outputs": [],
   "source": [
    "import numpy as np\n",
    "import torch "
   ]
  },
  {
   "cell_type": "code",
   "execution_count": 27,
   "metadata": {},
   "outputs": [],
   "source": [
    "from flair.embeddings import BytePairEmbeddings"
   ]
  },
  {
   "cell_type": "code",
   "execution_count": 28,
   "metadata": {},
   "outputs": [],
   "source": [
    "from flair.embeddings import DocumentPoolEmbeddings, Sentence"
   ]
  },
  {
   "cell_type": "code",
   "execution_count": 29,
   "metadata": {},
   "outputs": [
    {
     "name": "stdout",
     "output_type": "stream",
     "text": [
      "Setting dim=300 for multilingual BPEmb\n"
     ]
    }
   ],
   "source": [
    "embedding = BytePairEmbeddings('multi')"
   ]
  },
  {
   "cell_type": "code",
   "execution_count": 30,
   "metadata": {},
   "outputs": [],
   "source": [
    "doc = DocumentPoolEmbeddings([embedding])"
   ]
  },
  {
   "cell_type": "code",
   "execution_count": 72,
   "metadata": {},
   "outputs": [
    {
     "data": {
      "text/plain": [
       "5211"
      ]
     },
     "execution_count": 72,
     "metadata": {},
     "output_type": "execute_result"
    }
   ],
   "source": [
    "db.dane.estimated_document_count()"
   ]
  },
  {
   "cell_type": "code",
   "execution_count": 73,
   "metadata": {},
   "outputs": [
    {
     "data": {
      "text/plain": [
       "<pymongo.results.DeleteResult at 0x7fdfe7795788>"
      ]
     },
     "execution_count": 73,
     "metadata": {},
     "output_type": "execute_result"
    }
   ],
   "source": [
    "db.dane.delete_many({})"
   ]
  },
  {
   "cell_type": "code",
   "execution_count": 74,
   "metadata": {},
   "outputs": [
    {
     "data": {
      "text/plain": [
       "0"
      ]
     },
     "execution_count": 74,
     "metadata": {},
     "output_type": "execute_result"
    }
   ],
   "source": [
    "db.dane.estimated_document_count()"
   ]
  },
  {
   "cell_type": "code",
   "execution_count": 58,
   "metadata": {},
   "outputs": [],
   "source": [
    "def getProb(table):\n",
    "    out = []\n",
    "    for i in range(len(table[0])):\n",
    "        out.append((table[0][i],table[1][i]))\n",
    "    return out"
   ]
  },
  {
   "cell_type": "code",
   "execution_count": 59,
   "metadata": {},
   "outputs": [
    {
     "name": "stdout",
     "output_type": "stream",
     "text": [
      "Requirement already satisfied: chardet in /opt/anaconda3/lib/python3.7/site-packages (3.0.4)\n"
     ]
    }
   ],
   "source": [
    "!pip install chardet"
   ]
  },
  {
   "cell_type": "code",
   "execution_count": 62,
   "metadata": {},
   "outputs": [],
   "source": [
    "import chardet"
   ]
  },
  {
   "cell_type": "code",
   "execution_count": 70,
   "metadata": {},
   "outputs": [
    {
     "name": "stdout",
     "output_type": "stream",
     "text": [
      "<class 'str'>\n"
     ]
    },
    {
     "data": {
      "text/plain": [
       "{'encoding': 'ascii', 'confidence': 1.0, 'language': ''}"
      ]
     },
     "execution_count": 70,
     "metadata": {},
     "output_type": "execute_result"
    }
   ],
   "source": [
    "with open(p,'r') as f:      \n",
    "    data = f.read()\n",
    "print(type(data))\n",
    "chardet.detect(open(p, \"rb\").read())"
   ]
  },
  {
   "cell_type": "code",
   "execution_count": 75,
   "metadata": {},
   "outputs": [
    {
     "name": "stdout",
     "output_type": "stream",
     "text": [
      "0 708 EXATEL/921 1.090963363647461\n",
      "5 4267 EXATEL/70a 6.311112403869629\n",
      "10 7811 EXATEL/012 11.583662986755371\n",
      "15 11297 EXATEL/240 16.978167057037354\n",
      "20 14852 EXATEL/9d7 22.6521258354187\n",
      "25 18409 EXATEL/fbe 28.677468299865723\n",
      "30 21934 EXATEL/555 33.86344933509827\n",
      "35 25390 EXATEL/5f3 39.14018988609314\n",
      "40 28922 EXATEL/4c7 44.404091596603394\n",
      "45 32473 EXATEL/dd8 49.9432098865509\n",
      "50 36021 EXATEL/f1d 55.60236167907715\n",
      "55 39531 EXATEL/340 61.48020792007446\n",
      "60 43088 EXATEL/df8 66.83150386810303\n",
      "65 46436 EXATEL/389 71.96212601661682\n",
      "70 50022 EXATEL/b01 77.35492444038391\n",
      "75 53576 EXATEL/17b 82.65619444847107\n",
      "80 57032 EXATEL/49d 87.7342529296875\n",
      "85 60475 EXATEL/613 93.09737586975098\n",
      "90 63955 EXATEL/2e7 99.17923927307129\n",
      "95 67484 EXATEL/021 104.49361324310303\n",
      "100 70988 EXATEL/73e 109.91373753547668\n",
      "105 74513 EXATEL/fe5 115.98574352264404\n",
      "110 77972 EXATEL/32d 121.47300696372986\n",
      "115 81326 EXATEL/104 126.67638683319092\n",
      "120 84736 EXATEL/404 131.96055555343628\n",
      "125 88237 EXATEL/f7d 137.13971734046936\n",
      "130 91845 EXATEL/716 142.73565912246704\n",
      "135 95388 EXATEL/e59 147.84313821792603\n",
      "140 98935 EXATEL/d59 153.08959555625916\n",
      "145 102523 EXATEL/63d 158.54010343551636\n",
      "150 105989 EXATEL/f82 170.6248860359192\n",
      "155 109541 EXATEL/10f 183.00902104377747\n",
      "160 113028 EXATEL/c7b 194.5723569393158\n",
      "165 116486 EXATEL/5b0 205.3562569618225\n",
      "170 120080 EXATEL/1df 216.22911405563354\n",
      "175 123582 EXATEL/329 227.446270942688\n",
      "180 127087 EXATEL/92d 238.115318775177\n",
      "185 130623 EXATEL/a79 249.20048260688782\n",
      "190 134129 EXATEL/f2e 259.46354579925537\n",
      "195 137736 EXATEL/0f9 270.9620430469513\n",
      "200 141205 EXATEL/e07 281.8841769695282\n",
      "205 144708 EXATEL/ef4 292.26454877853394\n",
      "210 148185 EXATEL/a42 302.7468292713165\n",
      "215 151621 EXATEL/291 313.77672719955444\n",
      "220 155134 EXATEL/ab4 325.6364862918854\n",
      "225 158587 EXATEL/0d5 337.17999029159546\n",
      "230 162177 EXATEL/86d 348.17141246795654\n",
      "235 165741 EXATEL/23a 358.9998595714569\n",
      "240 169232 EXATEL/4c1 369.9267988204956\n",
      "245 172795 EXATEL/c7f 381.01902055740356\n",
      "250 176308 EXATEL/e57 391.6413037776947\n",
      "255 179796 EXATEL/f1e 402.2317328453064\n",
      "260 183250 EXATEL/9cc 412.46466398239136\n",
      "265 186848 EXATEL/61c 423.55022382736206\n",
      "270 190404 EXATEL/c13 434.34645080566406\n",
      "275 193881 EXATEL/7eb 445.40689301490784\n",
      "280 197506 EXATEL/6ee 456.3698420524597\n",
      "285 201029 EXATEL/2c9 466.9886984825134\n",
      "290 204584 EXATEL/c11 478.19192361831665\n",
      "295 208154 EXATEL/3ce 488.4729287624359\n",
      "300 211596 EXATEL/0d2 499.42269825935364\n",
      "305 215101 EXATEL/d16 510.4186189174652\n",
      "310 218585 EXATEL/749 520.7704818248749\n",
      "315 222090 EXATEL/a39 531.3725788593292\n",
      "320 225563 EXATEL/300 542.0744135379791\n",
      "325 229052 EXATEL/cc1 551.6761825084686\n",
      "330 232541 EXATEL/349 561.9403834342957\n",
      "335 236094 EXATEL/f08 571.8450853824615\n",
      "340 239584 EXATEL/4d9 582.5510020256042\n",
      "345 243099 EXATEL/bcc 594.0692818164825\n",
      "350 246621 EXATEL/d8d 605.0947523117065\n",
      "355 250172 EXATEL/5a0 615.3075876235962\n",
      "360 253620 EXATEL/953 626.2562253475189\n",
      "365 257193 EXATEL/ae3 637.0110802650452\n",
      "370 260762 EXATEL/b6c 648.5731387138367\n",
      "375 264279 EXATEL/c4c 659.7192821502686\n",
      "380 267847 EXATEL/ac5 670.7158362865448\n",
      "385 271339 EXATEL/0a7 681.345935344696\n",
      "390 274770 EXATEL/75b 692.0017604827881\n",
      "395 278236 EXATEL/de7 702.4837491512299\n",
      "400 281733 EXATEL/7d0 714.1878607273102\n",
      "405 285184 EXATEL/550 724.8584542274475\n",
      "410 288738 EXATEL/802 736.0786488056183\n",
      "415 292128 EXATEL/6b8 747.1759397983551\n",
      "420 295789 EXATEL/53e 757.6152880191803\n",
      "425 299266 EXATEL/39f 769.8307862281799\n",
      "430 302854 EXATEL/dc1 780.7515518665314\n",
      "435 306288 EXATEL/107 791.0870604515076\n",
      "440 309790 EXATEL/4ef 801.6203894615173\n",
      "445 313365 EXATEL/e9a 812.3991951942444\n",
      "450 316876 EXATEL/8e9 824.2344310283661\n",
      "455 320348 EXATEL/db1 834.6715068817139\n",
      "460 323870 EXATEL/7a1 846.3206558227539\n",
      "465 327333 EXATEL/f21 857.3245689868927\n",
      "470 330808 EXATEL/d19 868.4195444583893\n",
      "475 334337 EXATEL/403 879.8805992603302\n",
      "480 337839 EXATEL/186 890.6399405002594\n",
      "485 341238 EXATEL/952 902.0857629776001\n",
      "490 344660 EXATEL/95f 912.9738221168518\n",
      "495 348140 EXATEL/bc3 923.4739015102386\n",
      "500 351736 EXATEL/af5 934.6339263916016\n",
      "505 355292 EXATEL/d91 946.0595333576202\n",
      "510 358810 EXATEL/2e8 956.7489352226257\n",
      "515 362243 EXATEL/d7d 967.1932101249695\n",
      "520 365736 EXATEL/782 977.8304214477539\n",
      "525 369224 EXATEL/6f3 989.0132713317871\n",
      "530 372597 EXATEL/097 999.2873349189758\n",
      "535 376053 EXATEL/b30 1008.7342927455902\n",
      "540 379549 EXATEL/3bd 1019.5048201084137\n",
      "545 383011 EXATEL/45e 1030.6434199810028\n",
      "550 386494 EXATEL/fee 1040.414485692978\n",
      "555 389968 EXATEL/e3b 1050.975881576538\n",
      "560 393415 EXATEL/b59 1062.5634150505066\n",
      "565 396891 EXATEL/aed 1072.8332748413086\n",
      "570 400448 EXATEL/233 1083.704039812088\n",
      "575 403936 EXATEL/9d3 1094.8737683296204\n",
      "580 407523 EXATEL/8bb 1105.4815289974213\n",
      "585 411210 EXATEL/aac 1115.6480560302734\n",
      "590 414776 EXATEL/767 1126.8799641132355\n",
      "595 418260 EXATEL/a1d 1137.3373808860779\n",
      "600 421781 EXATEL/b23 1148.7337729930878\n",
      "605 425411 EXATEL/f4a 1159.6171913146973\n",
      "610 428954 EXATEL/92b 1170.549559354782\n",
      "615 432476 EXATEL/61d 1180.9403712749481\n",
      "620 435904 EXATEL/7a8 1191.3685512542725\n",
      "625 439423 EXATEL/a2a 1201.7064454555511\n",
      "630 442989 EXATEL/3e4 1212.2952659130096\n",
      "635 446584 EXATEL/2e6 1223.284161567688\n",
      "640 449985 EXATEL/ebc 1233.0065882205963\n",
      "645 453593 EXATEL/ce8 1243.941210269928\n",
      "650 457179 EXATEL/322 1254.1653101444244\n",
      "655 460715 EXATEL/08c 1265.285728931427\n",
      "660 464206 EXATEL/1d8 1276.081637620926\n",
      "665 467707 EXATEL/951 1286.3637340068817\n",
      "670 471193 EXATEL/6ab 1296.475703239441\n",
      "675 474774 EXATEL/ab6 1307.6469342708588\n",
      "680 478351 EXATEL/2ca 1318.971022605896\n",
      "685 481863 EXATEL/08f 1330.2420752048492\n",
      "690 485410 EXATEL/b29 1341.1236884593964\n",
      "695 488848 EXATEL/00a 1351.8565561771393\n",
      "700 492292 EXATEL/c81 1362.263666152954\n",
      "705 495818 EXATEL/067 1374.2494733333588\n",
      "710 499292 EXATEL/c1e 1384.217937707901\n",
      "715 502777 EXATEL/29a 1396.160344839096\n",
      "720 506365 EXATEL/1c1 1408.3091671466827\n",
      "725 509934 EXATEL/9bb 1419.1975691318512\n",
      "730 513400 EXATEL/d8a 1429.4152827262878\n",
      "735 517041 EXATEL/679 1440.7813951969147\n",
      "740 520554 EXATEL/369 1450.9856839179993\n",
      "745 524017 EXATEL/23e 1462.4809625148773\n",
      "750 527447 EXATEL/1fc 1473.1724727153778\n",
      "755 530969 EXATEL/b4b 1484.3619787693024\n",
      "760 534524 EXATEL/114 1495.7520444393158\n",
      "765 538072 EXATEL/138 1507.103636264801\n",
      "770 541528 EXATEL/305 1518.275208234787\n",
      "775 545157 EXATEL/ec0 1529.131361246109\n",
      "780 548669 EXATEL/890 1540.2402341365814\n",
      "785 552132 EXATEL/6e5 1550.6608867645264\n",
      "790 555634 EXATEL/efd 1562.2741677761078\n",
      "795 559208 EXATEL/e62 1574.1644620895386\n",
      "800 562739 EXATEL/867 1586.0300107002258\n",
      "805 566172 EXATEL/76b 1596.1595091819763\n",
      "810 569725 EXATEL/7db 1607.2912728786469\n",
      "815 573264 EXATEL/b07 1617.9914524555206\n",
      "820 576744 EXATEL/0a4 1628.332846879959\n",
      "825 580259 EXATEL/611 1638.2860534191132\n",
      "830 583686 EXATEL/6c1 1648.8577246665955\n",
      "835 587203 EXATEL/01d 1660.011209487915\n",
      "840 590719 EXATEL/36f 1671.5764617919922\n",
      "845 594124 EXATEL/f65 1682.6579093933105\n",
      "850 597725 EXATEL/631 1694.1712317466736\n",
      "855 601350 EXATEL/2bc 1705.6124830245972\n",
      "860 604779 EXATEL/4a3 1716.0299220085144\n",
      "865 608329 EXATEL/074 1727.3751213550568\n",
      "870 611753 EXATEL/b25 1738.3405978679657\n",
      "875 615280 EXATEL/304 1749.231954574585\n",
      "880 618775 EXATEL/f3f 1760.0669085979462\n",
      "885 622259 EXATEL/1f1 1772.0018577575684\n",
      "890 625755 EXATEL/dc6 1782.9783172607422\n",
      "895 629200 EXATEL/504 1793.6401526927948\n",
      "900 632721 EXATEL/460 1805.4197344779968\n",
      "905 636216 EXATEL/382 1817.0454647541046\n",
      "910 639600 EXATEL/757 1827.1183714866638\n",
      "915 643179 EXATEL/55d 1838.6605744361877\n",
      "920 646652 EXATEL/f61 1850.2918236255646\n",
      "925 650116 EXATEL/bb5 1861.2182927131653\n",
      "930 653736 EXATEL/701 1872.899670124054\n",
      "935 657231 EXATEL/7ae 1884.358878850937\n",
      "940 660718 EXATEL/15a 1896.1922607421875\n",
      "945 664222 EXATEL/de8 1907.3090507984161\n",
      "950 667815 EXATEL/259 1918.2897062301636\n",
      "955 671394 EXATEL/33e 1929.8707020282745\n",
      "960 674842 EXATEL/6ef 1941.7042577266693\n",
      "965 678312 EXATEL/008 1952.5203485488892\n",
      "970 681860 EXATEL/525 1964.6601045131683\n",
      "975 685324 EXATEL/5f8 1976.1506967544556\n",
      "980 688864 EXATEL/939 1987.6043891906738\n",
      "985 692363 EXATEL/ae1 1998.981983423233\n",
      "990 695845 EXATEL/986 2011.5420441627502\n",
      "995 699330 EXATEL/8be 2022.224941253662\n",
      "1000 702886 EXATEL/79d 2033.2848296165466\n",
      "1005 706351 EXATEL/1af 2044.4096312522888\n",
      "1010 709778 EXATEL/509 2056.074983358383\n",
      "1015 713230 EXATEL/437 2067.6251764297485\n",
      "1020 716807 EXATEL/e6e 2078.566329240799\n",
      "1025 720309 EXATEL/ec2 2090.234879255295\n",
      "1030 723855 EXATEL/a4c 2101.873088121414\n",
      "1035 727374 EXATEL/6e6 2113.869309902191\n",
      "1040 730853 EXATEL/79e 2124.5465965270996\n",
      "1045 734377 EXATEL/2fd 2135.1255691051483\n",
      "1050 737903 EXATEL/125 2146.24064040184\n",
      "1055 741463 EXATEL/aaf 2156.82235789299\n",
      "1060 744976 EXATEL/153 2168.9436514377594\n",
      "1065 748503 EXATEL/3a5 2179.600012779236\n",
      "1070 751930 EXATEL/0e3 2190.1900033950806\n",
      "1075 755390 EXATEL/dba 2201.36048579216\n",
      "1080 758909 EXATEL/69e 2213.0484535694122\n",
      "1085 762325 EXATEL/11d 2224.606884241104\n",
      "1090 765820 EXATEL/57d 2234.9736263751984\n",
      "1095 769355 EXATEL/62c 2245.8253512382507\n",
      "1100 772918 EXATEL/44a 2257.3996953964233\n",
      "1105 776405 EXATEL/9e9 2268.3358521461487\n",
      "1110 779964 EXATEL/b41 2280.157851934433\n",
      "1115 783446 EXATEL/99a 2291.279671192169\n",
      "1120 787005 EXATEL/5d4 2303.601739168167\n",
      "1125 790467 EXATEL/0c6 2313.9951729774475\n",
      "1130 793851 EXATEL/dbe 2324.880825281143\n",
      "1135 797407 EXATEL/cd1 2335.7928338050842\n",
      "1140 800929 EXATEL/6ca 2346.3994760513306\n",
      "1145 804373 EXATEL/12f 2357.6885421276093\n",
      "1150 807861 EXATEL/6d2 2370.0122513771057\n",
      "1155 811427 EXATEL/fec 2381.4115240573883\n",
      "1160 814931 EXATEL/7a2 2392.6285679340363\n",
      "1165 818496 EXATEL/4c5 2403.964629650116\n",
      "1170 821972 EXATEL/357 2415.476282596588\n",
      "1175 825435 EXATEL/f62 2426.0573892593384\n",
      "1180 828900 EXATEL/804 2437.4241268634796\n",
      "1185 832452 EXATEL/626 2448.438591480255\n",
      "1190 835910 EXATEL/52d 2459.231018781662\n",
      "1195 839430 EXATEL/488 2470.0595622062683\n",
      "1200 842943 EXATEL/a24 2480.5739529132843\n",
      "1205 846502 EXATEL/351 2490.7102320194244\n",
      "1210 850021 EXATEL/2db 2501.570369243622\n",
      "1215 853499 EXATEL/56f 2511.964451789856\n",
      "1220 857020 EXATEL/7c5 2522.7694125175476\n",
      "1225 860477 EXATEL/f80 2533.2976863384247\n",
      "1230 863957 EXATEL/359 2544.522897005081\n",
      "1235 867440 EXATEL/9eb 2555.6744747161865\n",
      "1240 871032 EXATEL/694 2566.6143577098846\n",
      "1245 874472 EXATEL/b0b 2576.945551633835\n",
      "1250 878006 EXATEL/e0d 2587.768100976944\n",
      "1255 881491 EXATEL/3c3 2599.004507303238\n",
      "1260 885008 EXATEL/e00 2610.3189849853516\n",
      "1265 888449 EXATEL/66e 2621.3249678611755\n",
      "1270 891925 EXATEL/f87 2631.416167974472\n",
      "1275 895443 EXATEL/e77 2642.841940164566\n",
      "1280 898964 EXATEL/0bf 2653.6234352588654\n",
      "1285 902542 EXATEL/d2d 2666.44783616066\n",
      "1290 906111 EXATEL/b8a 2678.3244314193726\n",
      "1295 909669 EXATEL/7b7 2689.9300968647003\n",
      "1300 913173 EXATEL/3f5 2700.788955450058\n",
      "1305 916700 EXATEL/465 2711.4616706371307\n",
      "1310 920174 EXATEL/9b3 2721.6015508174896\n",
      "1315 923745 EXATEL/2d9 2733.3586235046387\n",
      "1320 927183 EXATEL/c58 2743.9446425437927\n",
      "1325 930690 EXATEL/73d 2754.683969259262\n",
      "1330 934276 EXATEL/d14 2765.635689496994\n",
      "1335 937769 EXATEL/ec4 2776.371434211731\n",
      "1340 941327 EXATEL/5ef 2786.9381020069122\n",
      "1345 944927 EXATEL/92e 2797.5226929187775\n",
      "1350 948329 EXATEL/8b2 2808.3061907291412\n",
      "1355 951676 EXATEL/cbf 2818.773721218109\n",
      "1360 955225 EXATEL/f97 2829.2653529644012\n",
      "1365 958780 EXATEL/a91 2841.0629177093506\n",
      "1370 962287 EXATEL/a6f 2851.793063402176\n",
      "1375 965757 EXATEL/dfa 2863.3196380138397\n",
      "1380 969258 EXATEL/90d 2874.0893619060516\n",
      "1385 972671 EXATEL/784 2885.4037890434265\n",
      "1390 976177 EXATEL/445 2895.934312105179\n",
      "1395 979739 EXATEL/afd 2907.26691031456\n",
      "1400 983178 EXATEL/231 2917.9923639297485\n",
      "1405 986532 EXATEL/98a 2929.7147977352142\n",
      "1410 989986 EXATEL/146 2940.188331604004\n",
      "1415 993547 EXATEL/6da 2950.509572982788\n",
      "1420 997180 EXATEL/fdb 2963.0522060394287\n",
      "1425 1000632 EXATEL/7de 2973.8227050304413\n",
      "1430 1004098 EXATEL/b90 2985.3085837364197\n"
     ]
    },
    {
     "ename": "UnicodeDecodeError",
     "evalue": "'utf-8' codec can't decode byte 0xb1 in position 44: invalid start byte",
     "output_type": "error",
     "traceback": [
      "\u001b[0;31m---------------------------------------------------------------------------\u001b[0m",
      "\u001b[0;31mUnicodeDecodeError\u001b[0m                        Traceback (most recent call last)",
      "\u001b[0;32m<ipython-input-75-09f88e6f5ef2>\u001b[0m in \u001b[0;36m<module>\u001b[0;34m\u001b[0m\n\u001b[1;32m      7\u001b[0m     \u001b[0;32mfor\u001b[0m \u001b[0mp\u001b[0m \u001b[0;32min\u001b[0m \u001b[0mpliki\u001b[0m\u001b[0;34m:\u001b[0m\u001b[0;34m\u001b[0m\u001b[0;34m\u001b[0m\u001b[0m\n\u001b[1;32m      8\u001b[0m         \u001b[0;32mwith\u001b[0m \u001b[0mopen\u001b[0m\u001b[0;34m(\u001b[0m\u001b[0mp\u001b[0m\u001b[0;34m,\u001b[0m\u001b[0;34m'r'\u001b[0m\u001b[0;34m)\u001b[0m \u001b[0;32mas\u001b[0m \u001b[0mf\u001b[0m\u001b[0;34m:\u001b[0m\u001b[0;34m\u001b[0m\u001b[0;34m\u001b[0m\u001b[0m\n\u001b[0;32m----> 9\u001b[0;31m             \u001b[0mdata\u001b[0m \u001b[0;34m=\u001b[0m \u001b[0mf\u001b[0m\u001b[0;34m.\u001b[0m\u001b[0mread\u001b[0m\u001b[0;34m(\u001b[0m\u001b[0;34m)\u001b[0m\u001b[0;34m\u001b[0m\u001b[0;34m\u001b[0m\u001b[0m\n\u001b[0m\u001b[1;32m     10\u001b[0m             \u001b[0mdata2\u001b[0m \u001b[0;34m=\u001b[0m \u001b[0mdata\u001b[0m\u001b[0;34m.\u001b[0m\u001b[0mreplace\u001b[0m\u001b[0;34m(\u001b[0m\u001b[0;34m'\\n'\u001b[0m\u001b[0;34m,\u001b[0m \u001b[0;34m' '\u001b[0m\u001b[0;34m)\u001b[0m\u001b[0;34m.\u001b[0m\u001b[0mreplace\u001b[0m\u001b[0;34m(\u001b[0m\u001b[0;34m'  '\u001b[0m\u001b[0;34m,\u001b[0m\u001b[0;34m' '\u001b[0m\u001b[0;34m)\u001b[0m\u001b[0;34m\u001b[0m\u001b[0;34m\u001b[0m\u001b[0m\n\u001b[1;32m     11\u001b[0m             \u001b[0mlabel\u001b[0m \u001b[0;34m=\u001b[0m \u001b[0mlangCodes2\u001b[0m\u001b[0;34m(\u001b[0m\u001b[0mdata2\u001b[0m\u001b[0;34m)\u001b[0m\u001b[0;34m\u001b[0m\u001b[0;34m\u001b[0m\u001b[0m\n",
      "\u001b[0;32m/opt/anaconda3/lib/python3.7/codecs.py\u001b[0m in \u001b[0;36mdecode\u001b[0;34m(self, input, final)\u001b[0m\n\u001b[1;32m    320\u001b[0m         \u001b[0;31m# decode input (taking the buffer into account)\u001b[0m\u001b[0;34m\u001b[0m\u001b[0;34m\u001b[0m\u001b[0;34m\u001b[0m\u001b[0m\n\u001b[1;32m    321\u001b[0m         \u001b[0mdata\u001b[0m \u001b[0;34m=\u001b[0m \u001b[0mself\u001b[0m\u001b[0;34m.\u001b[0m\u001b[0mbuffer\u001b[0m \u001b[0;34m+\u001b[0m \u001b[0minput\u001b[0m\u001b[0;34m\u001b[0m\u001b[0;34m\u001b[0m\u001b[0m\n\u001b[0;32m--> 322\u001b[0;31m         \u001b[0;34m(\u001b[0m\u001b[0mresult\u001b[0m\u001b[0;34m,\u001b[0m \u001b[0mconsumed\u001b[0m\u001b[0;34m)\u001b[0m \u001b[0;34m=\u001b[0m \u001b[0mself\u001b[0m\u001b[0;34m.\u001b[0m\u001b[0m_buffer_decode\u001b[0m\u001b[0;34m(\u001b[0m\u001b[0mdata\u001b[0m\u001b[0;34m,\u001b[0m \u001b[0mself\u001b[0m\u001b[0;34m.\u001b[0m\u001b[0merrors\u001b[0m\u001b[0;34m,\u001b[0m \u001b[0mfinal\u001b[0m\u001b[0;34m)\u001b[0m\u001b[0;34m\u001b[0m\u001b[0;34m\u001b[0m\u001b[0m\n\u001b[0m\u001b[1;32m    323\u001b[0m         \u001b[0;31m# keep undecoded input until the next call\u001b[0m\u001b[0;34m\u001b[0m\u001b[0;34m\u001b[0m\u001b[0;34m\u001b[0m\u001b[0m\n\u001b[1;32m    324\u001b[0m         \u001b[0mself\u001b[0m\u001b[0;34m.\u001b[0m\u001b[0mbuffer\u001b[0m \u001b[0;34m=\u001b[0m \u001b[0mdata\u001b[0m\u001b[0;34m[\u001b[0m\u001b[0mconsumed\u001b[0m\u001b[0;34m:\u001b[0m\u001b[0;34m]\u001b[0m\u001b[0;34m\u001b[0m\u001b[0;34m\u001b[0m\u001b[0m\n",
      "\u001b[0;31mUnicodeDecodeError\u001b[0m: 'utf-8' codec can't decode byte 0xb1 in position 44: invalid start byte"
     ]
    }
   ],
   "source": [
    "labels = []\n",
    "start = time.time()\n",
    "i = 0\n",
    "jj = 0\n",
    "for c in cats:\n",
    "    pliki = glob.glob(c + '/*')\n",
    "    for p in pliki:\n",
    "        with open(p,'r') as f:      \n",
    "            data = f.read()\n",
    "            data2 = data.replace('\\n', ' ').replace('  ',' ')\n",
    "            label = langCodes2(data2)\n",
    "            labels.append(label)\n",
    "            slownik = {\n",
    "                'path' : p,\n",
    "                'cat'  : c,\n",
    "                'uuid' : p.split('/')[-1],\n",
    "                'lang' : label,\n",
    "                'langProb' : getProb(model.predict(data2, k=2)),\n",
    "                'payload' : data,\n",
    "                #'chardet' : chardet.detect(open(p, \"rb\").read())\n",
    "            }\n",
    "#             if label == '__label__not_a_language':\n",
    "#                 pass\n",
    "#             else:\n",
    "#                 sentence1 = Sentence(data2)\n",
    "#                 doc.embed(sentence1)\n",
    "#                 vec = sentence1.get_embedding()\n",
    "#                 norm = torch.sqrt(torch.dot(vec,vec))\n",
    "#                 vecNorm = vec / norm\n",
    "#                 slownik['vec'] = (vecNorm).tolist()\n",
    "            db.dane.insert_one(slownik)\n",
    "                #print(langCodes(data.replace('\\n', ' ').replace('  ',' ')))\n",
    "                #print(data)\n",
    "        jj += 1\n",
    "    if i % 5 == 0:\n",
    "        print(i, jj, c, time.time() - start)\n",
    "    i += 1\n",
    "print('All done...', time.time() - start)"
   ]
  },
  {
   "cell_type": "code",
   "execution_count": 46,
   "metadata": {},
   "outputs": [
    {
     "data": {
      "text/plain": [
       "flair.data.Sentence"
      ]
     },
     "execution_count": 46,
     "metadata": {},
     "output_type": "execute_result"
    }
   ],
   "source": [
    "Sentence"
   ]
  },
  {
   "cell_type": "code",
   "execution_count": 32,
   "metadata": {},
   "outputs": [
    {
     "data": {
      "text/plain": [
       "{'_id': ObjectId('5d7d0a9c0fbc6d49908b5f54'),\n",
       " 'path': 'EXATEL/921/921fbb1d99b4f0b4a1b159930de41d477bf8f1ac',\n",
       " 'cat': 'EXATEL/921',\n",
       " 'uuid': '921fbb1d99b4f0b4a1b159930de41d477bf8f1ac',\n",
       " 'lang': '__label__not_a_language',\n",
       " 'langProb': [['__label__en', 0.863328218460083],\n",
       "  ['__label__es', 0.012953351251780987]]}"
      ]
     },
     "execution_count": 32,
     "metadata": {},
     "output_type": "execute_result"
    }
   ],
   "source": [
    "db.dane.find_one({})"
   ]
  },
  {
   "cell_type": "code",
   "execution_count": 76,
   "metadata": {},
   "outputs": [
    {
     "data": {
      "text/plain": [
       "1435"
      ]
     },
     "execution_count": 76,
     "metadata": {},
     "output_type": "execute_result"
    }
   ],
   "source": [
    "i"
   ]
  },
  {
   "cell_type": "code",
   "execution_count": 77,
   "metadata": {},
   "outputs": [
    {
     "data": {
      "text/plain": [
       "'EXATEL/36e'"
      ]
     },
     "execution_count": 77,
     "metadata": {},
     "output_type": "execute_result"
    }
   ],
   "source": [
    "c"
   ]
  },
  {
   "cell_type": "code",
   "execution_count": 85,
   "metadata": {},
   "outputs": [
    {
     "data": {
      "text/plain": [
       "'EXATEL/36e'"
      ]
     },
     "execution_count": 85,
     "metadata": {},
     "output_type": "execute_result"
    }
   ],
   "source": [
    "c"
   ]
  },
  {
   "cell_type": "code",
   "execution_count": 79,
   "metadata": {},
   "outputs": [
    {
     "name": "stderr",
     "output_type": "stream",
     "text": [
      "/opt/anaconda3/lib/python3.7/site-packages/ipykernel_launcher.py:1: DeprecationWarning: count is deprecated. Use estimated_document_count or count_documents instead. Please note that $where must be replaced by $expr, $near must be replaced by $geoWithin with $center, and $nearSphere must be replaced by $geoWithin with $centerSphere\n",
      "  \"\"\"Entry point for launching an IPython kernel.\n"
     ]
    },
    {
     "data": {
      "text/plain": [
       "1006961"
      ]
     },
     "execution_count": 79,
     "metadata": {},
     "output_type": "execute_result"
    }
   ],
   "source": [
    "db.dane.count({})"
   ]
  },
  {
   "cell_type": "code",
   "execution_count": 86,
   "metadata": {},
   "outputs": [
    {
     "data": {
      "text/plain": [
       "<pymongo.results.DeleteResult at 0x7fdfd83c0f88>"
      ]
     },
     "execution_count": 86,
     "metadata": {},
     "output_type": "execute_result"
    }
   ],
   "source": [
    "db.dane.delete_many({'cat':c})"
   ]
  },
  {
   "cell_type": "code",
   "execution_count": 87,
   "metadata": {},
   "outputs": [
    {
     "name": "stderr",
     "output_type": "stream",
     "text": [
      "/opt/anaconda3/lib/python3.7/site-packages/ipykernel_launcher.py:1: DeprecationWarning: count is deprecated. Use estimated_document_count or count_documents instead. Please note that $where must be replaced by $expr, $near must be replaced by $geoWithin with $center, and $nearSphere must be replaced by $geoWithin with $centerSphere\n",
      "  \"\"\"Entry point for launching an IPython kernel.\n"
     ]
    },
    {
     "data": {
      "text/plain": [
       "1006902"
      ]
     },
     "execution_count": 87,
     "metadata": {},
     "output_type": "execute_result"
    }
   ],
   "source": [
    "db.dane.count()"
   ]
  },
  {
   "cell_type": "code",
   "execution_count": 82,
   "metadata": {},
   "outputs": [
    {
     "data": {
      "text/plain": [
       "1435"
      ]
     },
     "execution_count": 82,
     "metadata": {},
     "output_type": "execute_result"
    }
   ],
   "source": [
    "cats.index(c)"
   ]
  },
  {
   "cell_type": "code",
   "execution_count": 88,
   "metadata": {},
   "outputs": [],
   "source": [
    "errors = []"
   ]
  },
  {
   "cell_type": "code",
   "execution_count": 89,
   "metadata": {},
   "outputs": [
    {
     "name": "stdout",
     "output_type": "stream",
     "text": [
      "1435 1007733 EXATEL/36e 3545.1100749969482\n",
      "1440 1011173 EXATEL/71c 3556.0222704410553\n",
      "1445 1014767 EXATEL/43c 3567.6796424388885\n",
      "1450 1018306 EXATEL/197 3578.410229206085\n",
      "1455 1021805 EXATEL/e51 3589.760951757431\n",
      "1460 1025263 EXATEL/46b 3600.7146606445312\n",
      "1465 1028826 EXATEL/366 3612.934163093567\n",
      "1470 1032332 EXATEL/075 3624.1600801944733\n",
      "1475 1035712 EXATEL/33c 3634.812864303589\n",
      "1480 1039245 EXATEL/ae6 3645.5440492630005\n",
      "1485 1042819 EXATEL/1dd 3656.5029487609863\n",
      "1490 1046340 EXATEL/5ea 3667.1888394355774\n",
      "1495 1049861 EXATEL/c0e 3679.0349395275116\n",
      "1500 1053319 EXATEL/b87 3689.562992811203\n",
      "1505 1056802 EXATEL/983 3701.121743440628\n",
      "1510 1060175 EXATEL/d2c 3712.044627428055\n",
      "1515 1063689 EXATEL/52e 3724.1163489818573\n",
      "1520 1067158 EXATEL/ad3 3735.2389693260193\n",
      "1525 1070691 EXATEL/8ab 3746.731959581375\n",
      "1530 1074151 EXATEL/21d 3758.611666917801\n",
      "1535 1077617 EXATEL/1ac 3769.1593198776245\n",
      "1540 1081052 EXATEL/120 3779.482046842575\n",
      "1545 1084441 EXATEL/bdc 3789.21311879158\n",
      "1550 1087916 EXATEL/f2a 3800.626368999481\n",
      "1555 1091485 EXATEL/82b 3811.4508271217346\n",
      "1560 1095060 EXATEL/6f4 3822.91637301445\n",
      "1565 1098671 EXATEL/638 3834.0637357234955\n",
      "1570 1102221 EXATEL/032 3844.80490732193\n",
      "1575 1105745 EXATEL/d92 3856.536990404129\n",
      "1580 1109163 EXATEL/2de 3867.418159008026\n",
      "1585 1112665 EXATEL/3a2 3878.420789718628\n",
      "1590 1116196 EXATEL/fc0 3889.3006768226624\n",
      "1595 1119739 EXATEL/efe 3900.320832967758\n",
      "1600 1123274 EXATEL/9e7 3912.286169528961\n",
      "1605 1126828 EXATEL/272 3922.8201994895935\n",
      "1610 1130397 EXATEL/36b 3934.3445496559143\n",
      "1615 1133893 EXATEL/453 3944.654483795166\n",
      "1620 1137366 EXATEL/811 3954.5708322525024\n",
      "1625 1140886 EXATEL/72d 3965.668308496475\n",
      "1630 1144303 EXATEL/eb3 3977.038437128067\n",
      "1635 1147879 EXATEL/439 3988.2074332237244\n",
      "1640 1151474 EXATEL/762 3999.0022506713867\n",
      "1645 1154988 EXATEL/8ac 4009.6894726753235\n",
      "1650 1158454 EXATEL/9b7 4019.758064508438\n",
      "1655 1161960 EXATEL/f11 4030.4590640068054\n",
      "1660 1165545 EXATEL/f46 4041.712566137314\n",
      "1665 1169176 EXATEL/51f 4052.6654212474823\n",
      "1670 1172628 EXATEL/965 4063.61722946167\n",
      "1675 1176120 EXATEL/282 4074.118307828903\n",
      "1680 1179598 EXATEL/fda 4084.611015319824\n",
      "1685 1183112 EXATEL/064 4094.2530794143677\n",
      "1690 1186493 EXATEL/3b6 4104.974222898483\n",
      "1695 1189998 EXATEL/740 4116.014619350433\n",
      "1700 1193507 EXATEL/97e 4126.933442831039\n",
      "1705 1196983 EXATEL/446 4138.197288513184\n",
      "1710 1200568 EXATEL/070 4149.86772942543\n",
      "1715 1204094 EXATEL/cef 4160.68976855278\n",
      "1720 1207605 EXATEL/bee 4172.223750829697\n",
      "1725 1211106 EXATEL/cf4 4184.316096305847\n",
      "1730 1214698 EXATEL/129 4194.86475777626\n",
      "1735 1218198 EXATEL/1a3 4205.475219011307\n",
      "1740 1221838 EXATEL/2b6 4217.256517410278\n",
      "1745 1225381 EXATEL/100 4228.433546304703\n",
      "1750 1228867 EXATEL/55e 4240.2562084198\n",
      "1755 1232278 EXATEL/f0b 4250.217415809631\n",
      "1760 1235859 EXATEL/8b7 4261.583461284637\n",
      "1765 1239297 EXATEL/42f 4272.619200229645\n",
      "1770 1242783 EXATEL/420 4283.957151174545\n",
      "1775 1246235 EXATEL/316 4294.100557088852\n",
      "1780 1249775 EXATEL/cbb 4305.537006616592\n",
      "1785 1253183 EXATEL/d7a 4315.173156499863\n",
      "1790 1256791 EXATEL/91d 4328.331778764725\n",
      "1795 1260367 EXATEL/b71 4339.649091005325\n",
      "1800 1263776 EXATEL/1d7 4350.995049715042\n",
      "1805 1267236 EXATEL/d1c 4361.916879653931\n",
      "1810 1270750 EXATEL/704 4373.032945632935\n",
      "1815 1274190 EXATEL/b7b 4383.699306964874\n",
      "1820 1277635 EXATEL/d57 4394.341628789902\n",
      "1825 1281124 EXATEL/1f9 4405.675960063934\n",
      "1830 1284645 EXATEL/571 4416.205681085587\n",
      "1835 1288198 EXATEL/a97 4427.874671936035\n",
      "1840 1291766 EXATEL/e8b 4439.3944935798645\n",
      "1845 1295279 EXATEL/6f6 4450.526234865189\n",
      "1850 1298854 EXATEL/d72 4463.506108999252\n",
      "1855 1302429 EXATEL/60b 4474.790482759476\n",
      "1860 1305985 EXATEL/9ac 4485.7229635715485\n",
      "1865 1309511 EXATEL/26f 4495.989902973175\n",
      "1870 1312972 EXATEL/ab8 4508.153940200806\n",
      "1875 1316436 EXATEL/b8e 4518.925378322601\n",
      "1880 1319792 EXATEL/b7a 4528.788075208664\n",
      "1885 1323317 EXATEL/abb 4540.546964883804\n",
      "1890 1326787 EXATEL/847 4551.446936368942\n",
      "1895 1330230 EXATEL/09a 4561.409065246582\n",
      "1900 1333638 EXATEL/1d9 4572.772841691971\n",
      "1905 1337170 EXATEL/bad 4583.294722318649\n",
      "1910 1340677 EXATEL/4b4 4594.510046005249\n",
      "1915 1344175 EXATEL/12b 4605.608261346817\n",
      "1920 1347638 EXATEL/f28 4616.6000118255615\n",
      "1925 1351146 EXATEL/8a4 4627.195953369141\n",
      "1930 1354662 EXATEL/21f 4638.447653055191\n",
      "1935 1358164 EXATEL/667 4649.100957870483\n",
      "1940 1361608 EXATEL/1c3 4659.402267217636\n",
      "1945 1365040 EXATEL/8f6 4669.725326061249\n",
      "1950 1368526 EXATEL/418 4681.067883491516\n",
      "1955 1372024 EXATEL/fc5 4692.337812900543\n",
      "1960 1375458 EXATEL/436 4703.876664400101\n",
      "1965 1379046 EXATEL/170 4714.872488737106\n",
      "1970 1382451 EXATEL/656 4724.59521317482\n",
      "1975 1386004 EXATEL/3dd 4735.594486951828\n",
      "1980 1389560 EXATEL/96d 4746.642512321472\n",
      "1985 1393101 EXATEL/07a 4758.022350549698\n",
      "1990 1396552 EXATEL/482 4769.717358112335\n",
      "1995 1400147 EXATEL/ed8 4780.722629547119\n",
      "2000 1403699 EXATEL/5e7 4792.367910146713\n",
      "2005 1407243 EXATEL/045 4803.168506145477\n",
      "2010 1410802 EXATEL/30d 4813.911508560181\n",
      "2015 1414287 EXATEL/fa4 4825.048789739609\n",
      "2020 1417801 EXATEL/43d 4835.6315948963165\n",
      "2025 1421339 EXATEL/cad 4846.388860464096\n",
      "2030 1424822 EXATEL/fc2 4856.782825231552\n",
      "2035 1428316 EXATEL/c2d 4867.218579053879\n",
      "2040 1431832 EXATEL/194 4878.469047784805\n",
      "2045 1435375 EXATEL/b6e 4888.981907606125\n",
      "2050 1438762 EXATEL/91a 4899.351597309113\n",
      "2055 1442339 EXATEL/47c 4910.420375823975\n",
      "2060 1445796 EXATEL/66c 4921.522262573242\n",
      "2065 1449308 EXATEL/8bd 4932.873724937439\n",
      "2070 1452875 EXATEL/cb8 4944.2912311553955\n",
      "2075 1456401 EXATEL/b57 4955.325083017349\n",
      "2080 1459910 EXATEL/3d6 4966.195923566818\n",
      "2085 1463372 EXATEL/19f 4976.849965572357\n",
      "2090 1466953 EXATEL/0e0 4987.749494314194\n",
      "2095 1470509 EXATEL/1d3 4999.3745765686035\n",
      "2100 1473974 EXATEL/47e 5009.880442619324\n",
      "2105 1477524 EXATEL/22d 5020.5703229904175\n",
      "2110 1481036 EXATEL/03b 5030.253456830978\n",
      "2115 1484566 EXATEL/e4b 5042.235188961029\n",
      "2120 1487991 EXATEL/4e6 5053.0825984478\n",
      "2125 1491470 EXATEL/ad6 5065.335559844971\n",
      "2130 1494998 EXATEL/17a 5077.055472135544\n",
      "2135 1498553 EXATEL/9c3 5088.274630308151\n",
      "2140 1502044 EXATEL/750 5100.365088224411\n",
      "2145 1505443 EXATEL/aa4 5110.787553548813\n",
      "2150 1508955 EXATEL/34b 5122.281302452087\n",
      "2155 1512472 EXATEL/e05 5133.7114017009735\n",
      "2160 1515930 EXATEL/5af 5143.898787975311\n",
      "2165 1519381 EXATEL/fd2 5154.739887475967\n",
      "2170 1522883 EXATEL/089 5164.594932079315\n",
      "2175 1526483 EXATEL/433 5175.891147136688\n",
      "2180 1529954 EXATEL/11c 5187.237117767334\n",
      "2185 1533482 EXATEL/9f6 5198.321635961533\n",
      "2190 1537084 EXATEL/c7e 5209.22843003273\n",
      "2195 1540532 EXATEL/d4f 5219.243956565857\n",
      "2200 1544036 EXATEL/5db 5230.575781822205\n",
      "2205 1547574 EXATEL/252 5242.270377397537\n",
      "2210 1551087 EXATEL/65e 5253.060910463333\n",
      "2215 1554654 EXATEL/7d2 5263.619652509689\n",
      "2220 1558240 EXATEL/600 5275.098544359207\n",
      "2225 1561795 EXATEL/124 5285.979532003403\n",
      "2230 1565354 EXATEL/710 5297.010716915131\n",
      "2235 1568861 EXATEL/eae 5307.737902402878\n",
      "2240 1572358 EXATEL/8ef 5318.608307361603\n",
      "2245 1575935 EXATEL/c34 5330.536635160446\n",
      "2250 1579528 EXATEL/02a 5341.468097686768\n",
      "2255 1582962 EXATEL/85b 5351.894658565521\n",
      "2260 1586435 EXATEL/ed7 5362.824410915375\n",
      "2265 1589894 EXATEL/f5c 5373.217159986496\n",
      "2270 1593393 EXATEL/cc5 5383.155677556992\n",
      "2275 1596840 EXATEL/50c 5394.194317579269\n",
      "2280 1600287 EXATEL/2b1 5404.6429874897\n",
      "2285 1603843 EXATEL/01f 5416.600831747055\n",
      "2290 1607426 EXATEL/bd3 5427.317915201187\n",
      "2295 1611008 EXATEL/f05 5439.513991594315\n",
      "2300 1614537 EXATEL/6ba 5450.136806726456\n",
      "2305 1618141 EXATEL/a55 5461.6080667972565\n",
      "2310 1621765 EXATEL/287 5472.338312625885\n",
      "2315 1625259 EXATEL/db9 5482.980553865433\n",
      "2320 1628714 EXATEL/9d1 5494.302757024765\n",
      "2325 1632239 EXATEL/2b0 5505.293485164642\n",
      "2330 1635676 EXATEL/b33 5515.815975189209\n",
      "2335 1639190 EXATEL/84c 5527.644771337509\n",
      "2340 1642664 EXATEL/724 5538.9022307395935\n",
      "2345 1646237 EXATEL/b81 5550.01087474823\n",
      "2350 1649727 EXATEL/ad7 5561.408899307251\n",
      "2355 1653201 EXATEL/c74 5572.37220954895\n",
      "2360 1656744 EXATEL/59f 5584.140078306198\n",
      "2365 1660232 EXATEL/ad5 5596.092543363571\n",
      "2370 1663742 EXATEL/4de 5608.02748465538\n",
      "2375 1667336 EXATEL/902 5619.196526288986\n",
      "2380 1670718 EXATEL/feb 5629.198721408844\n",
      "2385 1674263 EXATEL/a26 5640.438538312912\n",
      "2390 1677735 EXATEL/7f2 5652.15550661087\n",
      "2395 1681285 EXATEL/108 5663.946703672409\n",
      "2400 1684727 EXATEL/cf6 5676.123683452606\n",
      "2405 1688257 EXATEL/8c7 5687.208344936371\n",
      "2410 1691850 EXATEL/6fd 5698.346335172653\n",
      "2415 1695407 EXATEL/c6d 5709.535925149918\n",
      "2420 1698965 EXATEL/084 5720.98756814003\n",
      "2425 1702592 EXATEL/fd3 5733.294216394424\n",
      "2430 1706096 EXATEL/ca9 5745.324547767639\n",
      "2435 1709528 EXATEL/3f1 5756.434319734573\n",
      "2440 1713068 EXATEL/3f8 5767.839756727219\n",
      "2445 1716665 EXATEL/ded 5778.533169269562\n",
      "2450 1720170 EXATEL/f67 5790.33154296875\n",
      "2455 1723740 EXATEL/c33 5801.397063732147\n",
      "2460 1727252 EXATEL/11b 5812.942875862122\n",
      "2465 1730766 EXATEL/4fa 5823.018946170807\n",
      "2470 1734168 EXATEL/fd6 5834.185747623444\n",
      "2475 1737666 EXATEL/034 5844.696723461151\n",
      "2480 1741149 EXATEL/5e3 5856.179414510727\n",
      "2485 1744708 EXATEL/b68 5868.302801609039\n",
      "2490 1748169 EXATEL/7cc 5878.526242733002\n",
      "2495 1751651 EXATEL/384 5889.693824052811\n",
      "2500 1755155 EXATEL/d04 5900.206781864166\n",
      "2505 1758665 EXATEL/a82 5911.806291818619\n",
      "2510 1762193 EXATEL/02e 5922.081544160843\n",
      "2515 1765717 EXATEL/323 5933.67368221283\n",
      "2520 1769219 EXATEL/3f3 5944.6719624996185\n",
      "2525 1772732 EXATEL/c9a 5955.548821926117\n",
      "2530 1776331 EXATEL/e78 5968.667551755905\n",
      "2535 1779859 EXATEL/712 5979.7412049770355\n",
      "2540 1783360 EXATEL/da8 5989.432155370712\n",
      "2545 1786896 EXATEL/0e9 6001.03478717804\n",
      "2550 1790300 EXATEL/24c 6011.10186624527\n",
      "2555 1793660 EXATEL/aad 6021.034673213959\n",
      "2560 1797175 EXATEL/c17 6033.137208223343\n",
      "2565 1800714 EXATEL/c2c 6044.558165550232\n",
      "2570 1804227 EXATEL/b62 6055.923807144165\n",
      "2575 1807721 EXATEL/ebd 6065.588671684265\n",
      "2580 1811257 EXATEL/523 6076.205023288727\n",
      "2585 1814795 EXATEL/bea 6088.1757481098175\n",
      "2590 1818288 EXATEL/149 6098.605904817581\n",
      "2595 1821766 EXATEL/07c 6110.009525299072\n",
      "2600 1825244 EXATEL/c39 6120.7753484249115\n",
      "2605 1828640 EXATEL/d6d 6131.10652256012\n",
      "2610 1832157 EXATEL/2f7 6142.393788099289\n",
      "2615 1835644 EXATEL/334 6153.3867065906525\n",
      "2620 1839190 EXATEL/0fa 6164.199522972107\n",
      "2625 1842752 EXATEL/b4c 6175.507420063019\n",
      "2630 1846215 EXATEL/508 6186.885075569153\n",
      "2635 1849706 EXATEL/b2f 6197.1141929626465\n",
      "2640 1853229 EXATEL/fb3 6207.89611697197\n",
      "2645 1856767 EXATEL/ae0 6218.654278278351\n",
      "2650 1860211 EXATEL/7e6 6228.616504192352\n",
      "2655 1863700 EXATEL/bf5 6238.821346998215\n",
      "2660 1867230 EXATEL/6dc 6249.235130310059\n",
      "2665 1870802 EXATEL/53a 6260.5391483306885\n",
      "2670 1874244 EXATEL/67f 6272.855677604675\n",
      "2675 1877695 EXATEL/3c5 6283.641477823257\n",
      "2680 1881150 EXATEL/ccb 6294.208947658539\n",
      "2685 1884654 EXATEL/999 6304.785502433777\n",
      "2690 1888284 EXATEL/a58 6317.395000696182\n",
      "2695 1891805 EXATEL/5a6 6328.277428627014\n",
      "2700 1895264 EXATEL/f24 6340.054365634918\n",
      "2705 1898675 EXATEL/ab9 6351.479473829269\n",
      "2710 1902158 EXATEL/c25 6363.425089597702\n",
      "2715 1905633 EXATEL/dd2 6373.918136358261\n",
      "2720 1909139 EXATEL/945 6385.587634563446\n",
      "2725 1912626 EXATEL/48b 6397.2548661231995\n",
      "2730 1915955 EXATEL/14d 6407.6115708351135\n",
      "2735 1919490 EXATEL/8c1 6418.846469640732\n",
      "2740 1922998 EXATEL/481 6429.4249432086945\n",
      "2745 1926583 EXATEL/2b9 6441.088138103485\n",
      "2750 1930124 EXATEL/a30 6451.94064450264\n",
      "2755 1933688 EXATEL/5eb 6464.209929227829\n",
      "2760 1937168 EXATEL/a4d 6475.047221183777\n",
      "2765 1940574 EXATEL/94e 6486.1092441082\n",
      "2770 1944049 EXATEL/ffb 6497.489120483398\n",
      "2775 1947565 EXATEL/862 6508.245580911636\n",
      "2780 1951122 EXATEL/8eb 6519.270890951157\n",
      "2785 1954622 EXATEL/616 6530.305339097977\n",
      "2790 1958133 EXATEL/5b5 6542.081671476364\n",
      "2795 1961700 EXATEL/8a0 6555.1095814704895\n",
      "2800 1965096 EXATEL/228 6566.213347196579\n",
      "2805 1968542 EXATEL/610 6576.567686080933\n",
      "2810 1972052 EXATEL/3ed 6587.502232074738\n",
      "2815 1975521 EXATEL/039 6599.265855550766\n",
      "2820 1978996 EXATEL/a1a 6610.631473779678\n",
      "2825 1982499 EXATEL/9a9 6622.763563156128\n",
      "2830 1986004 EXATEL/422 6633.671399354935\n",
      "2835 1989469 EXATEL/fd5 6645.196621894836\n",
      "2840 1992951 EXATEL/eff 6655.818621873856\n",
      "2845 1996532 EXATEL/f8a 6666.473103284836\n",
      "2850 2000123 EXATEL/ea9 6677.688721179962\n",
      "2855 2003616 EXATEL/84b 6689.1281361579895\n",
      "2860 2007177 EXATEL/d68 6699.875329494476\n",
      "2865 2010673 EXATEL/874 6710.677152395248\n",
      "2870 2014247 EXATEL/b3f 6721.253708362579\n",
      "2875 2017873 EXATEL/62e 6733.080373048782\n",
      "2880 2021343 EXATEL/a49 6742.669028759003\n",
      "2885 2024902 EXATEL/6ad 6753.834087371826\n",
      "2890 2028355 EXATEL/f38 6764.1013605594635\n",
      "2895 2031779 EXATEL/b97 6775.775009155273\n",
      "2900 2035266 EXATEL/229 6786.4355032444\n",
      "2905 2038699 EXATEL/8fb 6796.805477619171\n",
      "2910 2042292 EXATEL/320 6807.076508283615\n",
      "2915 2045783 EXATEL/057 6818.320892095566\n",
      "2920 2049180 EXATEL/5fd 6829.163643360138\n",
      "2925 2052740 EXATEL/fa0 6839.418233394623\n",
      "2930 2056261 EXATEL/582 6850.408211708069\n",
      "2935 2059691 EXATEL/72c 6860.750077962875\n",
      "2940 2063204 EXATEL/bd1 6871.1171243190765\n",
      "2945 2066747 EXATEL/39c 6881.933873653412\n",
      "2950 2070258 EXATEL/293 6893.2907502651215\n",
      "2955 2073750 EXATEL/5d9 6904.103878974915\n",
      "2960 2077193 EXATEL/e18 6914.583903551102\n",
      "2965 2080644 EXATEL/fc7 6925.493492841721\n",
      "2970 2084164 EXATEL/ba9 6935.456812143326\n",
      "3080 2161595 EXATEL/d46 7186.076075792313\n",
      "3085 2165081 EXATEL/906 7196.607226371765\n",
      "3090 2168643 EXATEL/2a1 7207.725359916687\n",
      "3095 2172093 EXATEL/904 7219.731374502182\n",
      "3100 2175597 EXATEL/76e 7230.859302043915\n",
      "3105 2179153 EXATEL/5f9 7241.978476285934\n",
      "3110 2182715 EXATEL/e87 7252.1995096206665\n",
      "3115 2186099 EXATEL/95e 7263.429058551788\n",
      "3120 2189617 EXATEL/0fd 7276.0499103069305\n",
      "3125 2193130 EXATEL/a59 7287.921413898468\n",
      "3130 2196719 EXATEL/bc4 7298.748078346252\n",
      "3135 2200290 EXATEL/a1e 7310.742903470993\n",
      "3140 2203894 EXATEL/9a4 7321.497179985046\n",
      "3145 2207391 EXATEL/daf 7333.9457540512085\n",
      "3150 2210870 EXATEL/711 7343.745270729065\n",
      "3155 2214440 EXATEL/62a 7355.10058093071\n",
      "3160 2217995 EXATEL/b9c 7366.4005336761475\n",
      "3165 2221475 EXATEL/1dc 7377.332066059113\n",
      "3170 2224901 EXATEL/dca 7388.028223991394\n",
      "3175 2228389 EXATEL/101 7398.69748544693\n",
      "3180 2231784 EXATEL/49f 7409.127400875092\n",
      "3185 2235327 EXATEL/c15 7420.364577054977\n",
      "3190 2238933 EXATEL/786 7431.809049844742\n",
      "3195 2242409 EXATEL/28a 7442.243788719177\n",
      "3200 2245980 EXATEL/3ae 7453.347783565521\n",
      "3205 2249441 EXATEL/fb8 7463.868556022644\n",
      "3210 2252768 EXATEL/f84 7473.916880846024\n",
      "3215 2256250 EXATEL/b31 7485.330887556076\n",
      "3220 2259745 EXATEL/567 7496.251675128937\n",
      "3225 2263106 EXATEL/159 7506.036719799042\n",
      "3230 2266540 EXATEL/4e8 7516.522043466568\n",
      "3235 2270105 EXATEL/12a 7527.746819257736\n",
      "3240 2273695 EXATEL/66a 7538.288996219635\n",
      "3245 2277137 EXATEL/eb1 7549.66365981102\n",
      "3250 2280696 EXATEL/57b 7561.268303632736\n",
      "3255 2284178 EXATEL/204 7573.278026103973\n",
      "3260 2287651 EXATEL/a72 7583.943128824234\n",
      "3265 2291237 EXATEL/a6e 7595.18732213974\n",
      "3270 2294745 EXATEL/abd 7605.284280538559\n",
      "3275 2298256 EXATEL/ffc 7616.290336370468\n",
      "3280 2301665 EXATEL/5d6 7626.256709814072\n",
      "3285 2305145 EXATEL/3b5 7637.787536621094\n",
      "3290 2308646 EXATEL/c16 7648.837844610214\n",
      "3295 2312110 EXATEL/c56 7660.60261964798\n",
      "3300 2315556 EXATEL/e86 7671.161068916321\n",
      "3305 2319125 EXATEL/893 7682.038507699966\n",
      "3310 2322690 EXATEL/d9d 7692.641789197922\n",
      "3315 2326211 EXATEL/6db 7703.07754445076\n",
      "3320 2329779 EXATEL/517 7715.299243688583\n",
      "3325 2333263 EXATEL/a6d 7726.212442874908\n",
      "3330 2336810 EXATEL/094 7736.113924980164\n",
      "3335 2340273 EXATEL/828 7746.6861119270325\n",
      "3340 2343822 EXATEL/29d 7758.006412744522\n",
      "3345 2347299 EXATEL/625 7769.062288761139\n",
      "3350 2350794 EXATEL/e98 7779.173985958099\n",
      "3355 2354260 EXATEL/167 7790.313132047653\n",
      "3360 2357821 EXATEL/e52 7801.56698679924\n",
      "3365 2361246 EXATEL/be1 7813.086503505707\n",
      "3370 2364787 EXATEL/b91 7824.669086456299\n",
      "3375 2368311 EXATEL/055 7836.5496509075165\n",
      "3380 2371796 EXATEL/ba7 7847.772175788879\n",
      "3385 2375298 EXATEL/f34 7859.628801345825\n",
      "3390 2378816 EXATEL/5cc 7870.67813372612\n",
      "3395 2382395 EXATEL/4ac 7881.482766628265\n",
      "3400 2385847 EXATEL/c95 7892.883460998535\n",
      "3405 2389368 EXATEL/131 7904.481984376907\n",
      "3410 2392921 EXATEL/40d 7916.059377670288\n",
      "3415 2396394 EXATEL/d0b 7927.587887763977\n",
      "3420 2399943 EXATEL/69a 7938.0576231479645\n",
      "3425 2403442 EXATEL/559 7947.826998949051\n",
      "3430 2406957 EXATEL/0f7 7960.199314832687\n",
      "3435 2410463 EXATEL/b14 7971.442941904068\n",
      "3440 2413855 EXATEL/001 7982.404105424881\n",
      "3445 2417341 EXATEL/510 7993.236768722534\n",
      "3450 2420835 EXATEL/8d0 8003.726799249649\n",
      "3455 2424353 EXATEL/7ff 8014.6780297756195\n",
      "3460 2427856 EXATEL/371 8025.549391031265\n",
      "3465 2431358 EXATEL/2cc 8035.802826166153\n",
      "3470 2434955 EXATEL/181 8047.430954694748\n",
      "3475 2438405 EXATEL/780 8058.072647094727\n",
      "3480 2441857 EXATEL/0fc 8068.4315276145935\n",
      "3485 2445353 EXATEL/b9f 8078.881327867508\n",
      "3490 2448823 EXATEL/498 8089.434226036072\n",
      "3495 2452229 EXATEL/0f8 8100.017935991287\n",
      "3500 2455755 EXATEL/8d9 8111.999166250229\n",
      "3505 2459262 EXATEL/45c 8123.891422510147\n",
      "3510 2462723 EXATEL/f4f 8133.750824689865\n",
      "3515 2466150 EXATEL/898 8144.7770874500275\n",
      "3520 2469620 EXATEL/e3a 8155.413318872452\n",
      "3525 2473061 EXATEL/80f 8165.459892749786\n",
      "3530 2476633 EXATEL/d86 8176.12312412262\n",
      "3535 2480081 EXATEL/432 8187.210589170456\n",
      "3540 2483541 EXATEL/f36 8197.353800058365\n",
      "3545 2486971 EXATEL/2ab 8208.07822728157\n",
      "3550 2490565 EXATEL/d13 8218.537289381027\n",
      "3555 2494089 EXATEL/729 8228.319779872894\n",
      "3560 2497541 EXATEL/bce 8239.29723906517\n",
      "3565 2501122 EXATEL/7da 8250.68928360939\n",
      "3570 2504554 EXATEL/7b4 8261.621699094772\n",
      "3575 2508081 EXATEL/a46 8272.832996606827\n",
      "3580 2511585 EXATEL/ca8 8283.175653457642\n",
      "3585 2515040 EXATEL/cdb 8293.128638744354\n",
      "3590 2518570 EXATEL/7a9 8303.428175210953\n",
      "3595 2522046 EXATEL/ce7 8313.864129543304\n",
      "3600 2525507 EXATEL/003 8324.32009100914\n",
      "3605 2528979 EXATEL/fff 8334.095717906952\n",
      "3610 2532430 EXATEL/e69 8345.13572883606\n",
      "3615 2535939 EXATEL/959 8356.07623243332\n",
      "3620 2539306 EXATEL/f64 8366.32332444191\n",
      "3625 2542824 EXATEL/46e 8377.966032266617\n",
      "3630 2546406 EXATEL/3dc 8388.365131378174\n",
      "3635 2549924 EXATEL/a3c 8399.40326166153\n",
      "3640 2553491 EXATEL/b1b 8410.377836704254\n",
      "3645 2556846 EXATEL/9ec 8420.349874973297\n",
      "3650 2560363 EXATEL/543 8431.172775030136\n",
      "3655 2563889 EXATEL/949 8442.336101531982\n",
      "3660 2567397 EXATEL/01c 8453.539315462112\n",
      "3665 2571021 EXATEL/3bc 8464.060881376266\n",
      "3670 2574434 EXATEL/605 8474.749471902847\n",
      "3675 2577910 EXATEL/29e 8486.000272035599\n",
      "3680 2581374 EXATEL/703 8496.77212524414\n",
      "3685 2584891 EXATEL/873 8506.990693330765\n",
      "3690 2588434 EXATEL/c6f 8518.333652973175\n",
      "3695 2591919 EXATEL/95d 8530.18299126625\n",
      "3700 2595464 EXATEL/376 8541.137974262238\n",
      "3705 2599003 EXATEL/6b3 8552.31737279892\n",
      "3710 2602462 EXATEL/1a2 8562.537855148315\n",
      "3715 2605932 EXATEL/1d2 8573.122430801392\n",
      "3720 2609372 EXATEL/ac8 8583.713752746582\n",
      "3725 2612931 EXATEL/5d5 8594.53117108345\n",
      "3730 2616520 EXATEL/7bc 8605.722341775894\n",
      "3735 2620095 EXATEL/246 8617.204107522964\n",
      "3740 2623735 EXATEL/d23 8628.282946109772\n",
      "3745 2627240 EXATEL/f43 8638.417490959167\n",
      "3750 2630853 EXATEL/771 8648.954765796661\n",
      "3755 2634358 EXATEL/ac4 8659.714540243149\n",
      "3760 2637842 EXATEL/805 8671.186472177505\n",
      "3765 2641303 EXATEL/9c5 8681.56356215477\n",
      "3770 2644778 EXATEL/50a 8692.245606422424\n",
      "3775 2648274 EXATEL/542 8702.78326535225\n",
      "3780 2651745 EXATEL/489 8713.917730808258\n",
      "3785 2655300 EXATEL/d1b 8725.320569753647\n",
      "3790 2658791 EXATEL/f26 8735.42950797081\n",
      "3795 2662159 EXATEL/b8c 8745.089351892471\n",
      "3800 2665598 EXATEL/c5a 8754.832216024399\n",
      "3805 2669160 EXATEL/2d7 8765.298744916916\n",
      "3810 2672717 EXATEL/4e3 8775.336439371109\n",
      "3815 2676215 EXATEL/d53 8785.642929315567\n",
      "3820 2679736 EXATEL/db2 8796.760293245316\n",
      "3825 2683242 EXATEL/88a 8808.237486362457\n",
      "3830 2686750 EXATEL/ef1 8818.588745355606\n",
      "3835 2690264 EXATEL/576 8828.682285547256\n",
      "3840 2693830 EXATEL/f13 8839.619188785553\n",
      "3845 2697386 EXATEL/156 8850.102679729462\n",
      "3850 2700980 EXATEL/8ce 8860.724343061447\n",
      "3855 2704567 EXATEL/5a4 8872.061121225357\n",
      "3860 2708020 EXATEL/6e7 8881.732622861862\n",
      "3865 2711575 EXATEL/2f4 8892.52338385582\n",
      "3870 2715024 EXATEL/c67 8903.474990606308\n",
      "3875 2718519 EXATEL/fa1 8913.986713886261\n",
      "3880 2721978 EXATEL/c83 8924.926445245743\n",
      "3885 2725404 EXATEL/b05 8936.261849403381\n",
      "3890 2728939 EXATEL/970 8946.901000738144\n",
      "3895 2732512 EXATEL/ff2 8957.487486600876\n",
      "3900 2736091 EXATEL/467 8969.448713064194\n",
      "3905 2739575 EXATEL/900 8979.367172241211\n",
      "3910 2743021 EXATEL/8a8 8990.291267633438\n",
      "3915 2746536 EXATEL/1de 9001.492498874664\n",
      "3920 2750154 EXATEL/d76 9011.781485795975\n",
      "3925 2753628 EXATEL/e39 9022.95987200737\n",
      "3930 2757148 EXATEL/1db 9033.761846542358\n",
      "3935 2760582 EXATEL/b93 9044.258268594742\n",
      "3940 2764135 EXATEL/692 9054.710649728775\n",
      "3945 2767569 EXATEL/e1b 9065.198772192001\n",
      "3950 2771091 EXATEL/ddb 9076.705271720886\n",
      "3955 2774576 EXATEL/d5a 9086.86751961708\n",
      "3960 2778162 EXATEL/066 9098.95141339302\n",
      "3965 2781580 EXATEL/6d4 9109.084851264954\n",
      "3970 2785100 EXATEL/af8 9119.861573934555\n",
      "3975 2788579 EXATEL/b65 9129.634755373001\n",
      "3980 2792106 EXATEL/c80 9140.30013871193\n",
      "3985 2795543 EXATEL/127 9150.606375694275\n",
      "3990 2799053 EXATEL/24b 9160.918805837631\n",
      "3995 2802634 EXATEL/d4c 9171.959745168686\n",
      "4000 2806152 EXATEL/2a2 9183.100637435913\n",
      "4005 2809525 EXATEL/c42 9193.386118412018\n",
      "4010 2812992 EXATEL/de6 9204.143849372864\n",
      "4015 2816530 EXATEL/9ed 9214.694422960281\n",
      "4020 2820072 EXATEL/651 9225.310627222061\n",
      "4025 2823514 EXATEL/31d 9236.320518255234\n",
      "4030 2827074 EXATEL/a3d 9247.742928266525\n",
      "4035 2830585 EXATEL/d1f 9257.961215496063\n",
      "4040 2834158 EXATEL/958 9268.894836425781\n",
      "4045 2837738 EXATEL/a1b 9279.220757246017\n",
      "4050 2841292 EXATEL/174 9290.01422405243\n",
      "4055 2844777 EXATEL/04b 9300.225873470306\n",
      "4060 2848199 EXATEL/1cc 9311.380336046219\n",
      "4065 2851663 EXATEL/cd0 9321.82689833641\n",
      "4070 2855119 EXATEL/639 9331.824227571487\n",
      "4075 2858598 EXATEL/9a8 9343.334220170975\n",
      "4080 2862105 EXATEL/056 9354.294572114944\n",
      "4085 2865480 EXATEL/c75 9363.871210098267\n",
      "4090 2868920 EXATEL/18b 9374.100349664688\n",
      "4095 2872483 EXATEL/654 9383.893857479095\n",
      "All done... 9383.894322872162\n"
     ]
    }
   ],
   "source": [
    "for c in cats[i:]:\n",
    "    pliki = glob.glob(c + '/*')\n",
    "    for p in pliki:\n",
    "        try:\n",
    "            with open(p,'r') as f: \n",
    "                data = f.read()\n",
    "                data2 = data.replace('\\n', ' ').replace('  ',' ')\n",
    "                label = langCodes2(data2)\n",
    "                labels.append(label)\n",
    "                slownik = {\n",
    "                    'path' : p,\n",
    "                    'cat'  : c,\n",
    "                    'uuid' : p.split('/')[-1],\n",
    "                    'lang' : label,\n",
    "                    'langProb' : getProb(model.predict(data2, k=2)),\n",
    "                    'payload' : data,\n",
    "                    #'chardet' : chardet.detect(open(p, \"rb\").read())\n",
    "                }\n",
    "    #             if label == '__label__not_a_language':\n",
    "    #                 pass\n",
    "    #             else:\n",
    "    #                 sentence1 = Sentence(data2)\n",
    "    #                 doc.embed(sentence1)\n",
    "    #                 vec = sentence1.get_embedding()\n",
    "    #                 norm = torch.sqrt(torch.dot(vec,vec))\n",
    "    #                 vecNorm = vec / norm\n",
    "    #                 slownik['vec'] = (vecNorm).tolist()\n",
    "                db.dane.insert_one(slownik)\n",
    "                    #print(langCodes(data.replace('\\n', ' ').replace('  ',' ')))\n",
    "                    #print(data)\n",
    "        except:\n",
    "            errors.append(p)\n",
    "        jj += 1\n",
    "    if i % 5 == 0:\n",
    "        print(i, jj, c, time.time() - start)\n",
    "    i += 1\n",
    "print('All done...', time.time() - start)"
   ]
  },
  {
   "cell_type": "code",
   "execution_count": 90,
   "metadata": {},
   "outputs": [
    {
     "data": {
      "text/plain": [
       "4096"
      ]
     },
     "execution_count": 90,
     "metadata": {},
     "output_type": "execute_result"
    }
   ],
   "source": [
    "i"
   ]
  },
  {
   "cell_type": "code",
   "execution_count": 1,
   "metadata": {},
   "outputs": [
    {
     "ename": "NameError",
     "evalue": "name 'db' is not defined",
     "output_type": "error",
     "traceback": [
      "\u001b[0;31m---------------------------------------------------------------------------\u001b[0m",
      "\u001b[0;31mNameError\u001b[0m                                 Traceback (most recent call last)",
      "\u001b[0;32m<ipython-input-1-16b51a9bd28c>\u001b[0m in \u001b[0;36m<module>\u001b[0;34m\u001b[0m\n\u001b[0;32m----> 1\u001b[0;31m \u001b[0mdb\u001b[0m\u001b[0;34m.\u001b[0m\u001b[0mdane\u001b[0m\u001b[0;34m.\u001b[0m\u001b[0mcreate_index\u001b[0m\u001b[0;34m(\u001b[0m\u001b[0;34m'class'\u001b[0m\u001b[0;34m)\u001b[0m\u001b[0;34m\u001b[0m\u001b[0;34m\u001b[0m\u001b[0m\n\u001b[0m",
      "\u001b[0;31mNameError\u001b[0m: name 'db' is not defined"
     ]
    }
   ],
   "source": [
    "db.dane.create_index('class')"
   ]
  },
  {
   "cell_type": "code",
   "execution_count": null,
   "metadata": {},
   "outputs": [],
   "source": []
  }
 ],
 "metadata": {
  "kernelspec": {
   "display_name": "Python 3",
   "language": "python",
   "name": "python3"
  },
  "language_info": {
   "codemirror_mode": {
    "name": "ipython",
    "version": 3
   },
   "file_extension": ".py",
   "mimetype": "text/x-python",
   "name": "python",
   "nbconvert_exporter": "python",
   "pygments_lexer": "ipython3",
   "version": "3.7.3"
  }
 },
 "nbformat": 4,
 "nbformat_minor": 2
}
